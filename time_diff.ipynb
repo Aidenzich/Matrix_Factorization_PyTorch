{
 "cells": [
  {
   "cell_type": "code",
   "execution_count": 2,
   "metadata": {},
   "outputs": [],
   "source": [
    "import pandas as pd\n",
    "from tqdm import tqdm"
   ]
  },
  {
   "cell_type": "code",
   "execution_count": 3,
   "metadata": {},
   "outputs": [],
   "source": []
  },
  {
   "cell_type": "code",
   "execution_count": 4,
   "metadata": {},
   "outputs": [
    {
     "name": "stderr",
     "output_type": "stream",
     "text": [
      "100%|██████████| 20/20 [00:00<00:00, 357.33it/s]\n"
     ]
    }
   ],
   "source": [
    "u_list = ['Aiden', 'Aiden', 'Aiden', 'Biden', 'Biden','Biden']\n",
    "for i in tqdm(range(20)):\n",
    "    u_list = u_list + u_list\n",
    "\n",
    "# df.money"
   ]
  },
  {
   "cell_type": "code",
   "execution_count": 5,
   "metadata": {},
   "outputs": [
    {
     "data": {
      "text/plain": [
       "6291456"
      ]
     },
     "execution_count": 5,
     "metadata": {},
     "output_type": "execute_result"
    }
   ],
   "source": [
    "len(u_list)"
   ]
  },
  {
   "cell_type": "code",
   "execution_count": 9,
   "metadata": {},
   "outputs": [],
   "source": [
    "df = pd.DataFrame({\n",
    "    \"u\": u_list\n",
    "})"
   ]
  },
  {
   "cell_type": "code",
   "execution_count": 11,
   "metadata": {},
   "outputs": [
    {
     "name": "stdout",
     "output_type": "stream",
     "text": [
      "6291456\n"
     ]
    }
   ],
   "source": [
    "count = 0\n",
    "for u in u_list:\n",
    "    count += 1\n",
    "print(count)"
   ]
  },
  {
   "cell_type": "code",
   "execution_count": 12,
   "metadata": {},
   "outputs": [
    {
     "name": "stdout",
     "output_type": "stream",
     "text": [
      "6291456\n"
     ]
    }
   ],
   "source": [
    "count = 0\n",
    "for u in df.u:\n",
    "    count += 1\n",
    "print(count)"
   ]
  },
  {
   "cell_type": "code",
   "execution_count": 13,
   "metadata": {},
   "outputs": [
    {
     "name": "stdout",
     "output_type": "stream",
     "text": [
      "6291456\n"
     ]
    }
   ],
   "source": [
    "count = 0\n",
    "for u in df.u.tolist():\n",
    "    count += 1\n",
    "print(count)"
   ]
  },
  {
   "cell_type": "code",
   "execution_count": null,
   "metadata": {},
   "outputs": [],
   "source": [
    "# 用forloop 的話ｓ pandas.series 跑的比 純list還慢"
   ]
  }
 ],
 "metadata": {
  "interpreter": {
   "hash": "067e0eacdea1980316c9f0fd1ce31924ae834c9e742cdeb3825c1b6650514cfd"
  },
  "kernelspec": {
   "display_name": "Python 3.9.7 64-bit ('Matrix_Factorization_PyTorch-7ZDEIVb8': pipenv)",
   "name": "python3"
  },
  "language_info": {
   "codemirror_mode": {
    "name": "ipython",
    "version": 3
   },
   "file_extension": ".py",
   "mimetype": "text/x-python",
   "name": "python",
   "nbconvert_exporter": "python",
   "pygments_lexer": "ipython3",
   "version": "3.9.7"
  },
  "orig_nbformat": 4
 },
 "nbformat": 4,
 "nbformat_minor": 2
}
