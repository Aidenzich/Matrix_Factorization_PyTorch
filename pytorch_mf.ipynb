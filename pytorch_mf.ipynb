{
 "cells": [
  {
   "cell_type": "code",
   "execution_count": 1,
   "metadata": {},
   "outputs": [],
   "source": [
    "import torch\n",
    "import torch.nn as nn\n",
    "import torch.nn.functional as F\n",
    "import pandas as pd\n",
    "import math\n",
    "from util import id2cat, get_cat2id\n",
    "from tqdm import tqdm\n",
    "# from sklearn.model_selection import train_test_split"
   ]
  },
  {
   "cell_type": "code",
   "execution_count": 2,
   "metadata": {},
   "outputs": [],
   "source": [
    "USER_KEY = \"personId\"\n",
    "ITEM_KEY = \"contentId\"\n",
    "RATE_KEY = \"eventStrength\"\n",
    "\n",
    "# preprocess\n",
    "def smooth_user_preference(x):\n",
    "    \"\"\"normalized values\n",
    "    \"\"\"\n",
    "    return math.log(1+x, 2)\n",
    "\n",
    "interactions_df = pd.read_csv('data/users_interactions.csv')\n",
    "event_type_strength = {\n",
    "   'VIEW': 1.0,\n",
    "   'LIKE': 2.0, \n",
    "   'BOOKMARK': 2.5, \n",
    "   'FOLLOW': 3.0,\n",
    "   'COMMENT CREATED': 4.0,  \n",
    "}\n",
    "\n",
    "interactions_df[RATE_KEY] = interactions_df['eventType'].apply(lambda x: event_type_strength[x])\n",
    "\n",
    "tmp = interactions_df.groupby([USER_KEY, ITEM_KEY]).size()\n",
    "users_interactions_count_df = tmp.groupby(USER_KEY).size()\n",
    "users_with_enough_interactions_df = users_interactions_count_df[users_interactions_count_df >= 5]\n",
    "users_with_enough_interactions_df = users_with_enough_interactions_df.reset_index()[[USER_KEY]]\n",
    "interactions_from_selected_users_df = interactions_df.merge(\n",
    "    users_with_enough_interactions_df, \n",
    "    how = 'right',\n",
    "    left_on = USER_KEY,\n",
    "    right_on = USER_KEY\n",
    ")\n",
    "interactions_full_df = interactions_from_selected_users_df \\\n",
    "                    .groupby([USER_KEY, ITEM_KEY])[RATE_KEY].sum() \\\n",
    "                    .apply(smooth_user_preference).reset_index()\n",
    "\n",
    "u2idx, u_cat = get_cat2id(interactions_full_df[USER_KEY])\n",
    "i2idx, i_cat = get_cat2id(interactions_full_df[ITEM_KEY])\n",
    "interactions_full_df[USER_KEY] = u_cat\n",
    "interactions_full_df[ITEM_KEY] = i_cat\n",
    "\n",
    "train_size = int(0.7 * len(interactions_full_df))\n",
    "interactions_train_df = interactions_full_df[:train_size]\n",
    "interactions_test_df = interactions_full_df[train_size:]"
   ]
  },
  {
   "cell_type": "code",
   "execution_count": 3,
   "metadata": {},
   "outputs": [
    {
     "data": {
      "text/html": [
       "<div>\n",
       "<style scoped>\n",
       "    .dataframe tbody tr th:only-of-type {\n",
       "        vertical-align: middle;\n",
       "    }\n",
       "\n",
       "    .dataframe tbody tr th {\n",
       "        vertical-align: top;\n",
       "    }\n",
       "\n",
       "    .dataframe thead th {\n",
       "        text-align: right;\n",
       "    }\n",
       "</style>\n",
       "<table border=\"1\" class=\"dataframe\">\n",
       "  <thead>\n",
       "    <tr style=\"text-align: right;\">\n",
       "      <th></th>\n",
       "      <th>personId</th>\n",
       "      <th>contentId</th>\n",
       "      <th>eventStrength</th>\n",
       "    </tr>\n",
       "  </thead>\n",
       "  <tbody>\n",
       "    <tr>\n",
       "      <th>0</th>\n",
       "      <td>0</td>\n",
       "      <td>65</td>\n",
       "      <td>1.000000</td>\n",
       "    </tr>\n",
       "    <tr>\n",
       "      <th>1</th>\n",
       "      <td>0</td>\n",
       "      <td>160</td>\n",
       "      <td>1.000000</td>\n",
       "    </tr>\n",
       "    <tr>\n",
       "      <th>2</th>\n",
       "      <td>0</td>\n",
       "      <td>188</td>\n",
       "      <td>1.000000</td>\n",
       "    </tr>\n",
       "    <tr>\n",
       "      <th>3</th>\n",
       "      <td>0</td>\n",
       "      <td>196</td>\n",
       "      <td>1.000000</td>\n",
       "    </tr>\n",
       "    <tr>\n",
       "      <th>4</th>\n",
       "      <td>0</td>\n",
       "      <td>313</td>\n",
       "      <td>3.169925</td>\n",
       "    </tr>\n",
       "    <tr>\n",
       "      <th>...</th>\n",
       "      <td>...</td>\n",
       "      <td>...</td>\n",
       "      <td>...</td>\n",
       "    </tr>\n",
       "    <tr>\n",
       "      <th>27369</th>\n",
       "      <td>770</td>\n",
       "      <td>575</td>\n",
       "      <td>1.000000</td>\n",
       "    </tr>\n",
       "    <tr>\n",
       "      <th>27370</th>\n",
       "      <td>770</td>\n",
       "      <td>604</td>\n",
       "      <td>1.000000</td>\n",
       "    </tr>\n",
       "    <tr>\n",
       "      <th>27371</th>\n",
       "      <td>770</td>\n",
       "      <td>611</td>\n",
       "      <td>1.584963</td>\n",
       "    </tr>\n",
       "    <tr>\n",
       "      <th>27372</th>\n",
       "      <td>770</td>\n",
       "      <td>774</td>\n",
       "      <td>1.584963</td>\n",
       "    </tr>\n",
       "    <tr>\n",
       "      <th>27373</th>\n",
       "      <td>770</td>\n",
       "      <td>903</td>\n",
       "      <td>1.000000</td>\n",
       "    </tr>\n",
       "  </tbody>\n",
       "</table>\n",
       "<p>27374 rows × 3 columns</p>\n",
       "</div>"
      ],
      "text/plain": [
       "       personId  contentId  eventStrength\n",
       "0             0         65       1.000000\n",
       "1             0        160       1.000000\n",
       "2             0        188       1.000000\n",
       "3             0        196       1.000000\n",
       "4             0        313       3.169925\n",
       "...         ...        ...            ...\n",
       "27369       770        575       1.000000\n",
       "27370       770        604       1.000000\n",
       "27371       770        611       1.584963\n",
       "27372       770        774       1.584963\n",
       "27373       770        903       1.000000\n",
       "\n",
       "[27374 rows x 3 columns]"
      ]
     },
     "execution_count": 3,
     "metadata": {},
     "output_type": "execute_result"
    }
   ],
   "source": [
    "interactions_train_df"
   ]
  },
  {
   "cell_type": "code",
   "execution_count": 4,
   "metadata": {},
   "outputs": [],
   "source": [
    "class MF(nn.Module):\n",
    "    def __init__(self, num_users, num_items, emb_size=1000):\n",
    "        super(MF, self).__init__()\n",
    "        self.user_emb = nn.Embedding(num_users, emb_size)\n",
    "        self.item_emb = nn.Embedding(num_items, emb_size)\n",
    "        # initializing our matrices with a positive number generally will yield better results\n",
    "        self.user_emb.weight.data.uniform_(0, 0.5)\n",
    "        self.item_emb.weight.data.uniform_(0, 0.5)\n",
    "\n",
    "    def forward(self, u, v):\n",
    "        u = self.user_emb(u)\n",
    "        v = self.item_emb(v)\n",
    "        return (u*v).sum(1)  # taking the dot product"
   ]
  },
  {
   "cell_type": "code",
   "execution_count": 5,
   "metadata": {},
   "outputs": [
    {
     "name": "stdout",
     "output_type": "stream",
     "text": [
      "27374\n",
      "27374\n"
     ]
    }
   ],
   "source": [
    "num_users = len(interactions_train_df[USER_KEY])\n",
    "num_items = len(interactions_train_df[ITEM_KEY])\n",
    "print(num_users)\n",
    "print(num_items)\n",
    "model = MF(num_users, num_items, emb_size=100)\n",
    "\n",
    "# train_df, valid_df = train_test_split(dataset, test_size=0.2)\n",
    "# resetting indices to avoid indexing errors\n",
    "train_df = interactions_train_df.reset_index(drop=True)\n",
    "test_df = interactions_test_df.reset_index(drop=True)"
   ]
  },
  {
   "cell_type": "code",
   "execution_count": 7,
   "metadata": {},
   "outputs": [],
   "source": [
    "def train_epocs(model, epochs=100000, lr=0.01, wd=0.0):\n",
    "    optimizer = torch.optim.Adam(model.parameters(), lr=lr, weight_decay=wd)\n",
    "    model.train()\n",
    "    for epoch in tqdm(range(epochs)):\n",
    "        user_tensor = torch.LongTensor(train_df[USER_KEY].values)\n",
    "        item_tensor = torch.LongTensor(train_df[ITEM_KEY].values)\n",
    "        ratings = torch.FloatTensor(train_df[RATE_KEY].values)\n",
    "        # print(torch.max(item_tensor))\n",
    "        # print(torch.min(item_tensor))\n",
    "        \n",
    "        y_hat = model(user_tensor, item_tensor)\n",
    "        \n",
    "        loss = F.mse_loss(y_hat, ratings)\n",
    "        if epoch % 10000 == 0:\n",
    "            print(f\"Epoch: {epoch}, Loss: {loss}\")\n",
    "\n",
    "        optimizer.zero_grad()  # reset gradient\n",
    "        loss.backward()\n",
    "        optimizer.step()\n",
    "        \n",
    "        # print(loss.item())\n",
    "        \n",
    "    test(model)\n",
    "\n",
    "def test(model):\n",
    "    model.eval()\n",
    "    user_tensor = torch.LongTensor(test_df[USER_KEY].values)\n",
    "    item_tensor = torch.LongTensor(test_df[ITEM_KEY].values)\n",
    "    ratings = torch.FloatTensor(test_df[RATE_KEY].values)\n",
    "    y_hat = model(user_tensor, item_tensor)\n",
    "    loss = F.mse_loss(y_hat, ratings)\n",
    "    print(\"test loss %.3f \" % loss.item())"
   ]
  },
  {
   "cell_type": "code",
   "execution_count": 8,
   "metadata": {},
   "outputs": [
    {
     "name": "stderr",
     "output_type": "stream",
     "text": [
      "  0%|          | 2/100000 [00:00<1:39:56, 16.67it/s]"
     ]
    },
    {
     "name": "stdout",
     "output_type": "stream",
     "text": [
      "Epoch: 0, Loss: 23.870031356811523\n"
     ]
    },
    {
     "name": "stderr",
     "output_type": "stream",
     "text": [
      " 10%|█         | 10002/100000 [08:17<1:13:57, 20.28it/s]"
     ]
    },
    {
     "name": "stdout",
     "output_type": "stream",
     "text": [
      "Epoch: 10000, Loss: 2.4001762383152325e-11\n"
     ]
    },
    {
     "name": "stderr",
     "output_type": "stream",
     "text": [
      " 20%|██        | 20002/100000 [16:36<1:05:02, 20.50it/s]"
     ]
    },
    {
     "name": "stdout",
     "output_type": "stream",
     "text": [
      "Epoch: 20000, Loss: 1.4133793513337878e-07\n"
     ]
    },
    {
     "name": "stderr",
     "output_type": "stream",
     "text": [
      " 30%|███       | 30004/100000 [24:48<56:37, 20.60it/s]"
     ]
    },
    {
     "name": "stdout",
     "output_type": "stream",
     "text": [
      "Epoch: 30000, Loss: 3.809713007285609e-07\n"
     ]
    },
    {
     "name": "stderr",
     "output_type": "stream",
     "text": [
      " 40%|████      | 40004/100000 [32:47<47:58, 20.84it/s]"
     ]
    },
    {
     "name": "stdout",
     "output_type": "stream",
     "text": [
      "Epoch: 40000, Loss: 6.9762813836860005e-06\n"
     ]
    },
    {
     "name": "stderr",
     "output_type": "stream",
     "text": [
      " 50%|█████     | 50004/100000 [40:47<39:56, 20.86it/s]"
     ]
    },
    {
     "name": "stdout",
     "output_type": "stream",
     "text": [
      "Epoch: 50000, Loss: 4.428964075486874e-06\n"
     ]
    },
    {
     "name": "stderr",
     "output_type": "stream",
     "text": [
      " 60%|██████    | 60003/100000 [48:44<31:48, 20.96it/s]"
     ]
    },
    {
     "name": "stdout",
     "output_type": "stream",
     "text": [
      "Epoch: 60000, Loss: 4.258533863321645e-06\n"
     ]
    },
    {
     "name": "stderr",
     "output_type": "stream",
     "text": [
      " 70%|███████   | 70004/100000 [56:41<23:53, 20.93it/s]"
     ]
    },
    {
     "name": "stdout",
     "output_type": "stream",
     "text": [
      "Epoch: 70000, Loss: 8.119158337649424e-06\n"
     ]
    },
    {
     "name": "stderr",
     "output_type": "stream",
     "text": [
      " 80%|████████  | 80003/100000 [1:04:38<16:08, 20.65it/s]"
     ]
    },
    {
     "name": "stdout",
     "output_type": "stream",
     "text": [
      "Epoch: 80000, Loss: 1.3935922424934688e-06\n"
     ]
    },
    {
     "name": "stderr",
     "output_type": "stream",
     "text": [
      " 90%|█████████ | 90002/100000 [1:12:38<07:58, 20.89it/s]"
     ]
    },
    {
     "name": "stdout",
     "output_type": "stream",
     "text": [
      "Epoch: 90000, Loss: 3.4493859857320786e-05\n"
     ]
    },
    {
     "name": "stderr",
     "output_type": "stream",
     "text": [
      "100%|██████████| 100000/100000 [1:20:37<00:00, 20.67it/s]"
     ]
    },
    {
     "name": "stdout",
     "output_type": "stream",
     "text": [
      "test loss 1.950 \n"
     ]
    },
    {
     "name": "stderr",
     "output_type": "stream",
     "text": [
      "\n"
     ]
    }
   ],
   "source": [
    "train_epocs(model)"
   ]
  },
  {
   "cell_type": "code",
   "execution_count": 16,
   "metadata": {},
   "outputs": [
    {
     "name": "stdout",
     "output_type": "stream",
     "text": [
      "2890\n",
      "2890\n"
     ]
    }
   ],
   "source": [
    "user = torch.tensor([10])\n",
    "items = torch.tensor(train_df[ITEM_KEY].unique().tolist())\n",
    "predictions = model(user, items).tolist()\n",
    "print(len(predictions))\n",
    "print(len(items))\n",
    "\n",
    "rdict = {\n",
    "    \"items\": items.numpy().tolist(),\n",
    "    \"recStr\": predictions\n",
    "}"
   ]
  },
  {
   "cell_type": "code",
   "execution_count": 23,
   "metadata": {},
   "outputs": [
    {
     "data": {
      "text/html": [
       "<div>\n",
       "<style scoped>\n",
       "    .dataframe tbody tr th:only-of-type {\n",
       "        vertical-align: middle;\n",
       "    }\n",
       "\n",
       "    .dataframe tbody tr th {\n",
       "        vertical-align: top;\n",
       "    }\n",
       "\n",
       "    .dataframe thead th {\n",
       "        text-align: right;\n",
       "    }\n",
       "</style>\n",
       "<table border=\"1\" class=\"dataframe\">\n",
       "  <thead>\n",
       "    <tr style=\"text-align: right;\">\n",
       "      <th></th>\n",
       "      <th>items</th>\n",
       "      <th>recStr</th>\n",
       "    </tr>\n",
       "  </thead>\n",
       "  <tbody>\n",
       "    <tr>\n",
       "      <th>177</th>\n",
       "      <td>1253</td>\n",
       "      <td>1.997737</td>\n",
       "    </tr>\n",
       "    <tr>\n",
       "      <th>175</th>\n",
       "      <td>537</td>\n",
       "      <td>1.809013</td>\n",
       "    </tr>\n",
       "    <tr>\n",
       "      <th>180</th>\n",
       "      <td>2293</td>\n",
       "      <td>1.808277</td>\n",
       "    </tr>\n",
       "    <tr>\n",
       "      <th>176</th>\n",
       "      <td>1165</td>\n",
       "      <td>1.807465</td>\n",
       "    </tr>\n",
       "    <tr>\n",
       "      <th>178</th>\n",
       "      <td>1325</td>\n",
       "      <td>1.806759</td>\n",
       "    </tr>\n",
       "    <tr>\n",
       "      <th>...</th>\n",
       "      <td>...</td>\n",
       "      <td>...</td>\n",
       "    </tr>\n",
       "    <tr>\n",
       "      <th>418</th>\n",
       "      <td>2083</td>\n",
       "      <td>-1.754417</td>\n",
       "    </tr>\n",
       "    <tr>\n",
       "      <th>1830</th>\n",
       "      <td>1000</td>\n",
       "      <td>-1.792570</td>\n",
       "    </tr>\n",
       "    <tr>\n",
       "      <th>1332</th>\n",
       "      <td>2269</td>\n",
       "      <td>-2.098755</td>\n",
       "    </tr>\n",
       "    <tr>\n",
       "      <th>383</th>\n",
       "      <td>1773</td>\n",
       "      <td>-2.133947</td>\n",
       "    </tr>\n",
       "    <tr>\n",
       "      <th>2138</th>\n",
       "      <td>808</td>\n",
       "      <td>-2.217125</td>\n",
       "    </tr>\n",
       "  </tbody>\n",
       "</table>\n",
       "<p>2890 rows × 2 columns</p>\n",
       "</div>"
      ],
      "text/plain": [
       "      items    recStr\n",
       "177    1253  1.997737\n",
       "175     537  1.809013\n",
       "180    2293  1.808277\n",
       "176    1165  1.807465\n",
       "178    1325  1.806759\n",
       "...     ...       ...\n",
       "418    2083 -1.754417\n",
       "1830   1000 -1.792570\n",
       "1332   2269 -2.098755\n",
       "383    1773 -2.133947\n",
       "2138    808 -2.217125\n",
       "\n",
       "[2890 rows x 2 columns]"
      ]
     },
     "execution_count": 23,
     "metadata": {},
     "output_type": "execute_result"
    }
   ],
   "source": [
    "pd.DataFrame(rdict).sort_values(by=['recStr'], ascending=False)"
   ]
  },
  {
   "cell_type": "code",
   "execution_count": 5,
   "metadata": {},
   "outputs": [
    {
     "data": {
      "text/plain": [
       "'\\\\data/\\result/abc.file'"
      ]
     },
     "execution_count": 5,
     "metadata": {},
     "output_type": "execute_result"
    }
   ],
   "source": [
    "import os \n",
    "filename = os.path.join(\"\\result\", \"abc.file\")\n",
    "filepath = os.path.join(\"\\data\", filename)\n",
    "filepath"
   ]
  }
 ],
 "metadata": {
  "interpreter": {
   "hash": "067e0eacdea1980316c9f0fd1ce31924ae834c9e742cdeb3825c1b6650514cfd"
  },
  "kernelspec": {
   "display_name": "Python 3.9.7 64-bit ('Matrix_Factorization_PyTorch-7ZDEIVb8': pipenv)",
   "name": "python3"
  },
  "language_info": {
   "codemirror_mode": {
    "name": "ipython",
    "version": 3
   },
   "file_extension": ".py",
   "mimetype": "text/x-python",
   "name": "python",
   "nbconvert_exporter": "python",
   "pygments_lexer": "ipython3",
   "version": "3.9.7"
  },
  "orig_nbformat": 4
 },
 "nbformat": 4,
 "nbformat_minor": 2
}
