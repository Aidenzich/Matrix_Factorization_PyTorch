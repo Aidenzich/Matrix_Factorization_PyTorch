{
 "cells": [
  {
   "cell_type": "code",
   "execution_count": 33,
   "metadata": {},
   "outputs": [],
   "source": [
    "import pandas as pd\n",
    "import numpy as np"
   ]
  },
  {
   "cell_type": "code",
   "execution_count": 235,
   "metadata": {},
   "outputs": [],
   "source": [
    "# 今天有需要計算每年用戶資料的變動度，透過以下方法計算\n",
    "df = pd.DataFrame({\n",
    "    \"time\":[2021, 2020, 2019, 2018, 2017, 2016],\n",
    "    \"user\":['Aiden', 'Aiden', 'Aiden', 'Biden', 'Biden','Biden'],\n",
    "    \"money\":[100000, 200000, 100000, 102000, 100000, 40000],\n",
    "    \"invest\":[1000050, 2000500, 100040, 1020030, 100002, 40001],\n",
    "})"
   ]
  },
  {
   "cell_type": "code",
   "execution_count": 236,
   "metadata": {},
   "outputs": [
    {
     "name": "stdout",
     "output_type": "stream",
     "text": [
      "   time   user   money   invest  money_diff  invest_diff\n",
      "0  2021  Aiden  100000  1000050   -100000.0   -1000450.0\n",
      "1  2020  Aiden  200000  2000500    100000.0    1900460.0\n",
      "2  2019  Aiden  100000   100040         0.0          0.0\n",
      "3  2018  Biden  102000  1020030      2000.0     920028.0\n",
      "4  2017  Biden  100000   100002     60000.0      60001.0\n",
      "5  2016  Biden   40000    40001         0.0          0.0\n"
     ]
    }
   ],
   "source": [
    "\n",
    "\n",
    "diff = pd.Series([], dtype='float64') \n",
    "\n",
    "diff_key = ['money', \"invest\"]\n",
    "\n",
    "res_dct = {diff_key[i]: v+\"_diff\"  for i, v in enumerate(diff_key)}\n",
    "\n",
    "diff_df = pd.DataFrame( [], columns=list(res_dct.values()))\n",
    "for u in df.user.unique().tolist():\n",
    "    user_df = df[df.user == u].sort_values(by=['time'])\n",
    "    tmp = user_df[['money', 'invest']].diff().replace(np.nan, 0).rename(res_dct, axis=1)\n",
    "    diff_df = diff_df.append(tmp)\n",
    "    \n",
    "    \n",
    "df = pd.concat([df, diff_df], axis=1)\n",
    "print(df)"
   ]
  },
  {
   "cell_type": "code",
   "execution_count": 183,
   "metadata": {},
   "outputs": [
    {
     "data": {
      "text/plain": [
       "0    1\n",
       "1    2\n",
       "2    3\n",
       "3    1\n",
       "4    2\n",
       "5    3\n",
       "dtype: int64"
      ]
     },
     "execution_count": 183,
     "metadata": {},
     "output_type": "execute_result"
    }
   ],
   "source": [
    "s0 = pd.Series([], dtype='float64')\n",
    "s1 = pd.Series([1, 2, 3], index=[0,1,2])\n",
    "s0 = s0.append(s1)\n",
    "s2 = pd.Series([1, 2, 3], index=[3,4,5])\n",
    "s0.append(s2)"
   ]
  },
  {
   "cell_type": "code",
   "execution_count": 58,
   "metadata": {},
   "outputs": [
    {
     "data": {
      "text/html": [
       "<div>\n",
       "<style scoped>\n",
       "    .dataframe tbody tr th:only-of-type {\n",
       "        vertical-align: middle;\n",
       "    }\n",
       "\n",
       "    .dataframe tbody tr th {\n",
       "        vertical-align: top;\n",
       "    }\n",
       "\n",
       "    .dataframe thead th {\n",
       "        text-align: right;\n",
       "    }\n",
       "</style>\n",
       "<table border=\"1\" class=\"dataframe\">\n",
       "  <thead>\n",
       "    <tr style=\"text-align: right;\">\n",
       "      <th></th>\n",
       "      <th>time</th>\n",
       "      <th>user</th>\n",
       "      <th>money</th>\n",
       "      <th>money_last_year</th>\n",
       "      <th>money_delta</th>\n",
       "      <th>money_delta_pct</th>\n",
       "    </tr>\n",
       "  </thead>\n",
       "  <tbody>\n",
       "    <tr>\n",
       "      <th>2</th>\n",
       "      <td>2019</td>\n",
       "      <td>Aiden</td>\n",
       "      <td>100000</td>\n",
       "      <td>0</td>\n",
       "      <td>100000</td>\n",
       "      <td>0.00</td>\n",
       "    </tr>\n",
       "    <tr>\n",
       "      <th>1</th>\n",
       "      <td>2020</td>\n",
       "      <td>Aiden</td>\n",
       "      <td>200000</td>\n",
       "      <td>100000</td>\n",
       "      <td>100000</td>\n",
       "      <td>1.00</td>\n",
       "    </tr>\n",
       "    <tr>\n",
       "      <th>0</th>\n",
       "      <td>2021</td>\n",
       "      <td>Aiden</td>\n",
       "      <td>100000</td>\n",
       "      <td>200000</td>\n",
       "      <td>-100000</td>\n",
       "      <td>-0.50</td>\n",
       "    </tr>\n",
       "    <tr>\n",
       "      <th>5</th>\n",
       "      <td>2016</td>\n",
       "      <td>Biden</td>\n",
       "      <td>40000</td>\n",
       "      <td>0</td>\n",
       "      <td>40000</td>\n",
       "      <td>0.00</td>\n",
       "    </tr>\n",
       "    <tr>\n",
       "      <th>4</th>\n",
       "      <td>2017</td>\n",
       "      <td>Biden</td>\n",
       "      <td>100000</td>\n",
       "      <td>40000</td>\n",
       "      <td>60000</td>\n",
       "      <td>1.50</td>\n",
       "    </tr>\n",
       "    <tr>\n",
       "      <th>3</th>\n",
       "      <td>2018</td>\n",
       "      <td>Biden</td>\n",
       "      <td>102000</td>\n",
       "      <td>100000</td>\n",
       "      <td>2000</td>\n",
       "      <td>0.02</td>\n",
       "    </tr>\n",
       "  </tbody>\n",
       "</table>\n",
       "</div>"
      ],
      "text/plain": [
       "   time   user   money money_last_year money_delta  money_delta_pct\n",
       "2  2019  Aiden  100000               0      100000             0.00\n",
       "1  2020  Aiden  200000          100000      100000             1.00\n",
       "0  2021  Aiden  100000          200000     -100000            -0.50\n",
       "5  2016  Biden   40000               0       40000             0.00\n",
       "4  2017  Biden  100000           40000       60000             1.50\n",
       "3  2018  Biden  102000          100000        2000             0.02"
      ]
     },
     "execution_count": 58,
     "metadata": {},
     "output_type": "execute_result"
    }
   ],
   "source": [
    "new_df"
   ]
  },
  {
   "cell_type": "code",
   "execution_count": 59,
   "metadata": {},
   "outputs": [
    {
     "data": {
      "text/plain": [
       "0         NaN\n",
       "1    100000.0\n",
       "2   -100000.0\n",
       "3      2000.0\n",
       "4     -2000.0\n",
       "5    -60000.0\n",
       "Name: money, dtype: float64"
      ]
     },
     "execution_count": 59,
     "metadata": {},
     "output_type": "execute_result"
    }
   ],
   "source": [
    "df['money'].diff()"
   ]
  }
 ],
 "metadata": {
  "interpreter": {
   "hash": "067e0eacdea1980316c9f0fd1ce31924ae834c9e742cdeb3825c1b6650514cfd"
  },
  "kernelspec": {
   "display_name": "Python 3.9.7 64-bit ('Matrix_Factorization_PyTorch-7ZDEIVb8': pipenv)",
   "name": "python3"
  },
  "language_info": {
   "codemirror_mode": {
    "name": "ipython",
    "version": 3
   },
   "file_extension": ".py",
   "mimetype": "text/x-python",
   "name": "python",
   "nbconvert_exporter": "python",
   "pygments_lexer": "ipython3",
   "version": "3.9.7"
  },
  "orig_nbformat": 4
 },
 "nbformat": 4,
 "nbformat_minor": 2
}
